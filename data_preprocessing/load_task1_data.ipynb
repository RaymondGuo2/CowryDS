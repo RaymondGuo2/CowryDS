{
 "cells": [
  {
   "cell_type": "code",
   "execution_count": 1,
   "id": "a943f19b",
   "metadata": {},
   "outputs": [],
   "source": [
    "import pandas as pd\n",
    "from task1_cleaning import load_data, relabel_factors"
   ]
  },
  {
   "cell_type": "code",
   "execution_count": 2,
   "id": "42fee048",
   "metadata": {},
   "outputs": [
    {
     "ename": "AttributeError",
     "evalue": "'str' object has no attribute 'str'",
     "output_type": "error",
     "traceback": [
      "\u001b[31m---------------------------------------------------------------------------\u001b[39m",
      "\u001b[31mAttributeError\u001b[39m                            Traceback (most recent call last)",
      "\u001b[36mCell\u001b[39m\u001b[36m \u001b[39m\u001b[32mIn[2]\u001b[39m\u001b[32m, line 3\u001b[39m\n\u001b[32m      1\u001b[39m \u001b[38;5;66;03m# Read the data and select the headers\u001b[39;00m\n\u001b[32m      2\u001b[39m df = load_data(\u001b[33m\"\u001b[39m\u001b[33m../data_source/CDS_25_Task1.xlsx\u001b[39m\u001b[33m\"\u001b[39m)\n\u001b[32m----> \u001b[39m\u001b[32m3\u001b[39m df = \u001b[43mrelabel_factors\u001b[49m\u001b[43m(\u001b[49m\u001b[43mdf\u001b[49m\u001b[43m)\u001b[49m\n\u001b[32m      4\u001b[39m df\n",
      "\u001b[36mFile \u001b[39m\u001b[32m~/Desktop/Careers/cowry interview/CowryDS/data_preprocessing/task1_cleaning.py:24\u001b[39m, in \u001b[36mrelabel_factors\u001b[39m\u001b[34m(df)\u001b[39m\n\u001b[32m     22\u001b[39m         split_text = col.split(\u001b[33m\"\u001b[39m\u001b[33m.\u001b[39m\u001b[33m\"\u001b[39m, \u001b[32m1\u001b[39m)[\u001b[32m1\u001b[39m]\n\u001b[32m     23\u001b[39m         factor = split_text.replace(\u001b[33m\"\u001b[39m\u001b[33m \u001b[39m\u001b[33m\"\u001b[39m,\u001b[33m\"\u001b[39m\u001b[33m\"\u001b[39m)\n\u001b[32m---> \u001b[39m\u001b[32m24\u001b[39m         factor = \u001b[43mfactor\u001b[49m\u001b[43m.\u001b[49m\u001b[43mstr\u001b[49m.lower()\n\u001b[32m     25\u001b[39m         df.rename(columns={col: factor}, inplace=\u001b[38;5;28;01mTrue\u001b[39;00m)\n\u001b[32m     26\u001b[39m \u001b[38;5;66;03m# Handle edge case with wrong spelling\u001b[39;00m\n",
      "\u001b[31mAttributeError\u001b[39m: 'str' object has no attribute 'str'"
     ]
    }
   ],
   "source": [
    "# Read the data and select the headers\n",
    "df = load_data(\"../data_source/CDS_25_Task1.xlsx\")\n",
    "df = relabel_factors(df)\n",
    "df"
   ]
  },
  {
   "cell_type": "code",
   "execution_count": null,
   "id": "d88c9942",
   "metadata": {},
   "outputs": [],
   "source": []
  }
 ],
 "metadata": {
  "kernelspec": {
   "display_name": "cowryenv",
   "language": "python",
   "name": "python3"
  },
  "language_info": {
   "codemirror_mode": {
    "name": "ipython",
    "version": 3
   },
   "file_extension": ".py",
   "mimetype": "text/x-python",
   "name": "python",
   "nbconvert_exporter": "python",
   "pygments_lexer": "ipython3",
   "version": "3.13.5"
  }
 },
 "nbformat": 4,
 "nbformat_minor": 5
}
